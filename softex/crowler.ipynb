{
 "cells": [
  {
   "cell_type": "markdown",
   "metadata": {},
   "source": [
    "# Instalando dependências"
   ]
  },
  {
   "cell_type": "code",
   "execution_count": 1,
   "metadata": {},
   "outputs": [
    {
     "name": "stdout",
     "output_type": "stream",
     "text": [
      "Requirement already satisfied: parsel in d:\\faculdade\\6º período\\estágio\\webscraping\\softex\\.venv\\lib\\site-packages (1.9.1)\n",
      "Requirement already satisfied: requests in d:\\faculdade\\6º período\\estágio\\webscraping\\softex\\.venv\\lib\\site-packages (2.32.3)\n",
      "Requirement already satisfied: pandas in d:\\faculdade\\6º período\\estágio\\webscraping\\softex\\.venv\\lib\\site-packages (2.2.3)\n",
      "Requirement already satisfied: openpyxl in d:\\faculdade\\6º período\\estágio\\webscraping\\softex\\.venv\\lib\\site-packages (3.1.5)\n",
      "Requirement already satisfied: cssselect>=1.2.0 in d:\\faculdade\\6º período\\estágio\\webscraping\\softex\\.venv\\lib\\site-packages (from parsel) (1.2.0)\n",
      "Requirement already satisfied: jmespath in d:\\faculdade\\6º período\\estágio\\webscraping\\softex\\.venv\\lib\\site-packages (from parsel) (1.0.1)\n",
      "Requirement already satisfied: lxml in d:\\faculdade\\6º período\\estágio\\webscraping\\softex\\.venv\\lib\\site-packages (from parsel) (5.3.0)\n",
      "Requirement already satisfied: packaging in d:\\faculdade\\6º período\\estágio\\webscraping\\softex\\.venv\\lib\\site-packages (from parsel) (24.1)\n",
      "Requirement already satisfied: w3lib>=1.19.0 in d:\\faculdade\\6º período\\estágio\\webscraping\\softex\\.venv\\lib\\site-packages (from parsel) (2.2.1)\n",
      "Requirement already satisfied: charset-normalizer<4,>=2 in d:\\faculdade\\6º período\\estágio\\webscraping\\softex\\.venv\\lib\\site-packages (from requests) (3.4.0)\n",
      "Requirement already satisfied: idna<4,>=2.5 in d:\\faculdade\\6º período\\estágio\\webscraping\\softex\\.venv\\lib\\site-packages (from requests) (3.10)\n",
      "Requirement already satisfied: urllib3<3,>=1.21.1 in d:\\faculdade\\6º período\\estágio\\webscraping\\softex\\.venv\\lib\\site-packages (from requests) (2.2.3)\n",
      "Requirement already satisfied: certifi>=2017.4.17 in d:\\faculdade\\6º período\\estágio\\webscraping\\softex\\.venv\\lib\\site-packages (from requests) (2024.8.30)\n",
      "Requirement already satisfied: numpy>=1.26.0 in d:\\faculdade\\6º período\\estágio\\webscraping\\softex\\.venv\\lib\\site-packages (from pandas) (2.1.2)\n",
      "Requirement already satisfied: python-dateutil>=2.8.2 in d:\\faculdade\\6º período\\estágio\\webscraping\\softex\\.venv\\lib\\site-packages (from pandas) (2.9.0.post0)\n",
      "Requirement already satisfied: pytz>=2020.1 in d:\\faculdade\\6º período\\estágio\\webscraping\\softex\\.venv\\lib\\site-packages (from pandas) (2024.2)\n",
      "Requirement already satisfied: tzdata>=2022.7 in d:\\faculdade\\6º período\\estágio\\webscraping\\softex\\.venv\\lib\\site-packages (from pandas) (2024.2)\n",
      "Requirement already satisfied: et-xmlfile in d:\\faculdade\\6º período\\estágio\\webscraping\\softex\\.venv\\lib\\site-packages (from openpyxl) (1.1.0)\n",
      "Requirement already satisfied: six>=1.5 in d:\\faculdade\\6º período\\estágio\\webscraping\\softex\\.venv\\lib\\site-packages (from python-dateutil>=2.8.2->pandas) (1.16.0)\n"
     ]
    },
    {
     "name": "stderr",
     "output_type": "stream",
     "text": [
      "\n",
      "[notice] A new release of pip is available: 24.0 -> 24.2\n",
      "[notice] To update, run: python.exe -m pip install --upgrade pip\n"
     ]
    }
   ],
   "source": [
    "!pip install parsel requests pandas openpyxl"
   ]
  },
  {
   "cell_type": "markdown",
   "metadata": {},
   "source": [
    "# Importando dependências"
   ]
  },
  {
   "cell_type": "code",
   "execution_count": 3,
   "metadata": {},
   "outputs": [],
   "source": [
    "import requests\n",
    "import parsel\n",
    "import os\n",
    "import re\n",
    "import time\n",
    "import pandas as pd"
   ]
  },
  {
   "cell_type": "markdown",
   "metadata": {},
   "source": [
    "# Funções"
   ]
  },
  {
   "cell_type": "markdown",
   "metadata": {},
   "source": [
    "# Funções auxiliares"
   ]
  },
  {
   "cell_type": "code",
   "execution_count": 32,
   "metadata": {},
   "outputs": [],
   "source": [
    "def trata_cpf(string):\n",
    "    try:\n",
    "        padrao_cep = r'\\b\\d{5}-\\d{3}\\b'\n",
    "        cep_encontrado = re.findall(padrao_cep, string)[0]\n",
    "    except Exception as E:\n",
    "        padrao_cep = r'\\b\\d{8}\\b'\n",
    "        cep_encontrado = re.findall(padrao_cep, string)[0]\n",
    "\n",
    "    return cep_encontrado\n",
    "\n",
    "\n",
    "def consultar_cep(cep):\n",
    "    cep = ''.join(filter(str.isdigit, str(cep)))\n",
    "    url = f'https://brasilapi.com.br/api/cep/v1/{cep}'\n",
    "    \n",
    "    try:\n",
    "        response = requests.get(url)\n",
    "        if response.status_code == 200:\n",
    "            return response.json()\n",
    "        else:\n",
    "            print(f'Erro ao consultar o CEP {cep}: Status Code {response.status_code}')\n",
    "            return None\n",
    "    except Exception as e:\n",
    "        print(f'Erro ao consultar o CEP {cep}: {e}')\n",
    "        return None\n",
    "    \n",
    "def gera_planilha(dados, nome_planilha):\n",
    "    df = pd.DataFrame(dados)\n",
    "    df.to_excel(f'{nome_planilha}.xlsx', index=True)"
   ]
  },
  {
   "cell_type": "markdown",
   "metadata": {},
   "source": [
    "## Função que pega a ultima página e gera os links das páginas \"Principais\" "
   ]
  },
  {
   "cell_type": "code",
   "execution_count": 5,
   "metadata": {},
   "outputs": [],
   "source": [
    "def ultima_pagina():\n",
    "    resposta = requests.get('https://sga.softexrecife.org.br/catalogo')\n",
    "    html_selector = parsel.Selector(resposta.text)\n",
    "    last_range = html_selector.xpath(\"//ul[@class='pagination pagination']/li[13]/a/text()\").get()\n",
    "\n",
    "    return last_range\n",
    "\n",
    "\n",
    "def gera_links():    \n",
    "\n",
    "    links_paginas = []\n",
    "\n",
    "    for pagina in range(1,int(ultima_pagina())+1):\n",
    "        url = f'https://sga.softexrecife.org.br/catalogo?page={pagina}'\n",
    "        links_paginas.append(url)\n",
    "    \n",
    "    return links_paginas\n"
   ]
  },
  {
   "cell_type": "markdown",
   "metadata": {},
   "source": [
    "## Função que agrupa os links de cada card"
   ]
  },
  {
   "cell_type": "code",
   "execution_count": 6,
   "metadata": {},
   "outputs": [],
   "source": [
    "def agrupa_links(links):\n",
    "    url = 'https://sga.softexrecife.org.br/catalogo'\n",
    "    cards_url = []\n",
    "    for link in links:\n",
    "        cards_url.append(url + '/' + os.path.basename(link))\n",
    "    return  cards_url"
   ]
  },
  {
   "cell_type": "markdown",
   "metadata": {},
   "source": [
    "## Função que pega os dados da startup na página referente"
   ]
  },
  {
   "cell_type": "code",
   "execution_count": 37,
   "metadata": {},
   "outputs": [],
   "source": [
    "def dados_startup(link):\n",
    "    try:\n",
    "        resposta = requests.get(link)\n",
    "        cards_html = resposta.text\n",
    "        cards_selector = parsel.Selector(cards_html)\n",
    "\n",
    "        telefone = cards_selector.xpath(\"//div[@class='col-contact']//div[@class='col-content']/a[1]/text()\").get()\n",
    "        email = cards_selector.xpath(\"//div[@class='col-contact']//div[@class='col-content']/a[2]/text()\").get()\n",
    "        site = cards_selector.xpath(\"//div[@class='col-contact']//div[@class='col-content']/a[3]/text()\").get()\n",
    "        endereco = cards_selector.xpath(\"//div[@class='col-contact']//div[@class='col-content']/a[4]/text()\").get().split()\n",
    "        endereco = ' '.join(endereco)\n",
    "        try:\n",
    "            cep = trata_cpf(endereco)\n",
    "            cidade = consultar_cep(cep).get('city')\n",
    "        except Exception as Er:\n",
    "            print(Er,'- Error')\n",
    "        nome_startup = cards_selector.xpath(\"//div[@class='col-details']/p/text()\").get().strip()\n",
    "        descricao_startup = cards_selector.xpath(\"//div[@class='col-details']/textarea/text()\").get().split()\n",
    "        descricao_startup = ' '.join(descricao_startup)\n",
    "        segmento_startup = cards_selector.xpath(\"//div[@class='col-details']/p[3]/text()\").get()\n",
    "        modelo_startup = cards_selector.xpath(\"//div[@class='col-details']/p[5]/text()\").get()\n",
    "\n",
    "        dados = {\n",
    "            'Nome': nome_startup,\n",
    "            'Segmento': segmento_startup,\n",
    "            'Modelo': modelo_startup,\n",
    "            'Site': site,\n",
    "            'Email': email,\n",
    "            'Telefone': telefone,\n",
    "            'Endereço': endereco,\n",
    "            'Cidade': cidade,\n",
    "            'Descrição': descricao_startup,\n",
    "        }\n",
    "\n",
    "        return dados\n",
    "\n",
    "                \n",
    "    except Exception as E:\n",
    "        print(f'Erro ao acessar o site: {E}, {link}')"
   ]
  },
  {
   "cell_type": "markdown",
   "metadata": {},
   "source": [
    "## Função que percorre todas as páginas, e chama a função que percorre as informações nos cards."
   ]
  },
  {
   "cell_type": "code",
   "execution_count": 8,
   "metadata": {},
   "outputs": [],
   "source": [
    "def percorre_startups(links_paginas):\n",
    "    dados = []\n",
    "    caminho_xpath = \"//div[@class='catalog-content-main-company border cl-page-width rounded row d-flex align-items-center justify-content-center']/a/@href\"\n",
    "    for pagina in links_paginas:\n",
    "        time.sleep(1)\n",
    "        print(f'Pagina - {pagina}')\n",
    "        resposta = requests.get(pagina)\n",
    "        html_text = resposta.text\n",
    "        html_selector = parsel.Selector(html_text)\n",
    "        links = html_selector.xpath(caminho_xpath).getall()\n",
    "        links = agrupa_links(links)\n",
    "        for link in links:\n",
    "            resposta = dados_startup(link)\n",
    "            if resposta == None:\n",
    "                continue\n",
    "            else:\n",
    "                dados.append(resposta)\n",
    "        \n",
    "    return dados\n"
   ]
  },
  {
   "cell_type": "markdown",
   "metadata": {},
   "source": [
    "## Executando"
   ]
  },
  {
   "cell_type": "code",
   "execution_count": 10,
   "metadata": {},
   "outputs": [],
   "source": [
    "links_principais = gera_links()"
   ]
  },
  {
   "cell_type": "code",
   "execution_count": 39,
   "metadata": {},
   "outputs": [
    {
     "name": "stdout",
     "output_type": "stream",
     "text": [
      "Pagina - https://sga.softexrecife.org.br/catalogo?page=1\n",
      "Erro ao consultar o CEP 50030600: Status Code 404\n",
      "'NoneType' object has no attribute 'get' - Error\n",
      "Erro ao acessar o site: cannot access local variable 'cidade' where it is not associated with a value, https://sga.softexrecife.org.br/catalogo/449\n",
      "Pagina - https://sga.softexrecife.org.br/catalogo?page=2\n",
      "Pagina - https://sga.softexrecife.org.br/catalogo?page=3\n",
      "Pagina - https://sga.softexrecife.org.br/catalogo?page=4\n",
      "Pagina - https://sga.softexrecife.org.br/catalogo?page=5\n",
      "Pagina - https://sga.softexrecife.org.br/catalogo?page=6\n",
      "Pagina - https://sga.softexrecife.org.br/catalogo?page=7\n",
      "Pagina - https://sga.softexrecife.org.br/catalogo?page=8\n",
      "Pagina - https://sga.softexrecife.org.br/catalogo?page=9\n",
      "list index out of range - Error\n",
      "Erro ao acessar o site: cannot access local variable 'cidade' where it is not associated with a value, https://sga.softexrecife.org.br/catalogo/241\n",
      "Pagina - https://sga.softexrecife.org.br/catalogo?page=10\n",
      "list index out of range - Error\n",
      "Erro ao acessar o site: cannot access local variable 'cidade' where it is not associated with a value, https://sga.softexrecife.org.br/catalogo/65\n",
      "Erro ao consultar o CEP 55084908: Status Code 404\n",
      "'NoneType' object has no attribute 'get' - Error\n",
      "Erro ao acessar o site: cannot access local variable 'cidade' where it is not associated with a value, https://sga.softexrecife.org.br/catalogo/100\n",
      "list index out of range - Error\n",
      "Erro ao acessar o site: cannot access local variable 'cidade' where it is not associated with a value, https://sga.softexrecife.org.br/catalogo/297\n",
      "list index out of range - Error\n",
      "Erro ao acessar o site: cannot access local variable 'cidade' where it is not associated with a value, https://sga.softexrecife.org.br/catalogo/300\n",
      "Pagina - https://sga.softexrecife.org.br/catalogo?page=11\n",
      "list index out of range - Error\n",
      "Erro ao acessar o site: cannot access local variable 'cidade' where it is not associated with a value, https://sga.softexrecife.org.br/catalogo/395\n",
      "Erro ao consultar o CEP 52060592: Status Code 404\n",
      "'NoneType' object has no attribute 'get' - Error\n",
      "Erro ao acessar o site: cannot access local variable 'cidade' where it is not associated with a value, https://sga.softexrecife.org.br/catalogo/175\n",
      "list index out of range - Error\n",
      "Erro ao acessar o site: cannot access local variable 'cidade' where it is not associated with a value, https://sga.softexrecife.org.br/catalogo/293\n",
      "Pagina - https://sga.softexrecife.org.br/catalogo?page=12\n",
      "Erro ao consultar o CEP 50030970: Status Code 404\n",
      "'NoneType' object has no attribute 'get' - Error\n",
      "Erro ao acessar o site: cannot access local variable 'cidade' where it is not associated with a value, https://sga.softexrecife.org.br/catalogo/62\n",
      "list index out of range - Error\n",
      "Erro ao acessar o site: cannot access local variable 'cidade' where it is not associated with a value, https://sga.softexrecife.org.br/catalogo/298\n",
      "list index out of range - Error\n",
      "Erro ao acessar o site: cannot access local variable 'cidade' where it is not associated with a value, https://sga.softexrecife.org.br/catalogo/188\n",
      "Pagina - https://sga.softexrecife.org.br/catalogo?page=13\n",
      "list index out of range - Error\n",
      "Erro ao acessar o site: cannot access local variable 'cidade' where it is not associated with a value, https://sga.softexrecife.org.br/catalogo/113\n",
      "Erro ao consultar o CEP 50010220: Status Code 404\n",
      "'NoneType' object has no attribute 'get' - Error\n",
      "Erro ao acessar o site: cannot access local variable 'cidade' where it is not associated with a value, https://sga.softexrecife.org.br/catalogo/319\n",
      "list index out of range - Error\n",
      "Erro ao acessar o site: cannot access local variable 'cidade' where it is not associated with a value, https://sga.softexrecife.org.br/catalogo/366\n",
      "list index out of range - Error\n",
      "Erro ao acessar o site: cannot access local variable 'cidade' where it is not associated with a value, https://sga.softexrecife.org.br/catalogo/417\n",
      "Pagina - https://sga.softexrecife.org.br/catalogo?page=14\n",
      "list index out of range - Error\n",
      "Erro ao acessar o site: cannot access local variable 'cidade' where it is not associated with a value, https://sga.softexrecife.org.br/catalogo/137\n",
      "list index out of range - Error\n",
      "Erro ao acessar o site: cannot access local variable 'cidade' where it is not associated with a value, https://sga.softexrecife.org.br/catalogo/235\n",
      "list index out of range - Error\n",
      "Erro ao acessar o site: cannot access local variable 'cidade' where it is not associated with a value, https://sga.softexrecife.org.br/catalogo/96\n",
      "Pagina - https://sga.softexrecife.org.br/catalogo?page=15\n",
      "list index out of range - Error\n",
      "Erro ao acessar o site: cannot access local variable 'cidade' where it is not associated with a value, https://sga.softexrecife.org.br/catalogo/20\n",
      "Erro ao consultar o CEP 50303200: Status Code 404\n",
      "'NoneType' object has no attribute 'get' - Error\n",
      "Erro ao acessar o site: cannot access local variable 'cidade' where it is not associated with a value, https://sga.softexrecife.org.br/catalogo/218\n",
      "Pagina - https://sga.softexrecife.org.br/catalogo?page=16\n",
      "list index out of range - Error\n",
      "Erro ao acessar o site: cannot access local variable 'cidade' where it is not associated with a value, https://sga.softexrecife.org.br/catalogo/154\n",
      "Erro ao consultar o CEP 50012040: Status Code 404\n",
      "'NoneType' object has no attribute 'get' - Error\n",
      "Erro ao acessar o site: cannot access local variable 'cidade' where it is not associated with a value, https://sga.softexrecife.org.br/catalogo/181\n",
      "Pagina - https://sga.softexrecife.org.br/catalogo?page=17\n",
      "list index out of range - Error\n",
      "Erro ao acessar o site: cannot access local variable 'cidade' where it is not associated with a value, https://sga.softexrecife.org.br/catalogo/220\n",
      "Pagina - https://sga.softexrecife.org.br/catalogo?page=18\n",
      "list index out of range - Error\n",
      "Erro ao acessar o site: cannot access local variable 'cidade' where it is not associated with a value, https://sga.softexrecife.org.br/catalogo/4\n",
      "list index out of range - Error\n",
      "Erro ao acessar o site: cannot access local variable 'cidade' where it is not associated with a value, https://sga.softexrecife.org.br/catalogo/3\n",
      "Pagina - https://sga.softexrecife.org.br/catalogo?page=19\n"
     ]
    }
   ],
   "source": [
    "dados = percorre_startups(links_principais)"
   ]
  },
  {
   "cell_type": "code",
   "execution_count": 40,
   "metadata": {},
   "outputs": [],
   "source": [
    "gera_planilha(dados, 'Startup_Cidade')"
   ]
  }
 ],
 "metadata": {
  "kernelspec": {
   "display_name": ".venv",
   "language": "python",
   "name": "python3"
  },
  "language_info": {
   "codemirror_mode": {
    "name": "ipython",
    "version": 3
   },
   "file_extension": ".py",
   "mimetype": "text/x-python",
   "name": "python",
   "nbconvert_exporter": "python",
   "pygments_lexer": "ipython3",
   "version": "3.12.4"
  }
 },
 "nbformat": 4,
 "nbformat_minor": 2
}
